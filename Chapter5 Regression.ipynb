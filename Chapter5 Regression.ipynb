{
 "cells": [
  {
   "cell_type": "code",
   "execution_count": 192,
   "metadata": {},
   "outputs": [],
   "source": [
    "import numpy as np\n",
    "import scipy as sp\n",
    "import pandas as pd\n",
    "import matplotlib.pyplot as plt\n",
    "from sklearn.linear_model import LinearRegression\n",
    "import statsmodels.formula.api as smf\n",
    "import seaborn as sns"
   ]
  },
  {
   "cell_type": "markdown",
   "metadata": {},
   "source": [
    "## 回帰分析   \n",
    "\n",
    "### 回帰分析とは     \n",
    "**回帰分析(regression analysis)**において回帰という用語を導入したのはSir F.Galtonといわれている。彼は父親と息子の身長の関係を一次式を用いて調べると世代を経ることで平均値へと収束することを見出した。これを平均回帰(regression toward the mean)と称したことにことを発する。この話は次に詳しい。   \n",
    "\n",
    "+ https://en.wikipedia.org/wiki/Regression_analysis    \n",
    "\n",
    "回帰分析という呼称は彼の功績に基づいており、現在使われている回帰の意味はこれを拡張したものである。   \n",
    "   \n",
    "ここで説明変数が入力として与えられた時に目的変数が出力として現れるものはシステムと呼ばれるが、物理的考察または経験則によりある数式モデルで近似できるものと考えることができる。   \n",
    "ここでモデルが線形であると仮定出来る時、回帰モデルは次式のように現れれる。   \n",
    "     \n",
    "$$\n",
    "\\begin{align}\n",
    "y &= \\boldsymbol{x} \\boldsymbol{\\beta}^{T}  \\\\ \n",
    "  &= \\beta_0 + \\beta_{1} x_{1} + \\cdots + \\beta_{p} x_{p}  \n",
    "\\end{align}\n",
    "$$\n",
    "\n",
    "ここに$p$はモデル次数であり、また次ようにおいた     \n",
    "\n",
    "$$\n",
    "\\boldsymbol{x} = [1 \\ x_{1} \\ \\cdots \\ x_{p}] \\\\\n",
    "\\boldsymbol{\\beta} = [\\beta_{0} \\ \\beta_{1} \\ \\cdots \\beta_{p}]\n",
    "$$  \n",
    "\n",
    "回帰分析の分野において$\\boldsymbol{\\beta}$は**偏回帰係数**(partial regression coefficitent)と呼ばれる。    \n",
    "経済系では$\\boldsymbol{\\beta}$をベータ係数と称し、特に定数($\\beta_{0}$)をバイアスパラメータと称し重要視することがある。このためこの項を抜き出した次のような表現もよく用いられる。   \n",
    "\n",
    "$$\n",
    "y = \\beta_{0} + \\boldsymbol{x} \\boldsymbol{\\beta}^{T}\n",
    "$$\n",
    "\n",
    "モデルが非線形なら次で表す。  \n",
    "\n",
    "$$\n",
    "y = f(\\boldsymbol{x}, \\boldsymbol{\\beta})\n",
    "$$\n",
    "\n",
    "ここに関数$f(\\dot)$の構造(どのような数式で表されるか)は既知とすることが一般的である。   \n",
    "    \n",
    "線形・非線形に関わらず、回帰分析とは次を行うことである。   \n",
    "+ モデル構造が既知と仮定して、モデル次数$p$を選定する。   \n",
    "+ $\\boldsymbol{x}$, yを用いて、偏回帰係数$\\boldsymbol{\\beta}$を推定し、回帰モデルを求める。   \n",
    "+ この回帰モデルを用いて、目的変数が未知で新たな説明変数をモデルに入力して目的変数を予測する。"
   ]
  },
  {
   "cell_type": "markdown",
   "metadata": {},
   "source": [
    "### statsmodels   \n",
    "`statsmodels`は様々な統計モデルを提供しており、公式HPは<a href = https://www.statsmodels.org>こちら</a>にある。   \n",
    "本章では回帰モデルのパラメータ推定にOLS法(ordinary least squares)を扱うが他にGLS法(generalized least squares)などがある。   \n",
    "また`statsmodels`は説明変数を**exog(exogenous variable)**、目的変数を**endog(endogenous variable)**とあわわす。\n",
    "`statsmodels`の使い方は次を参照すること。\n",
    "+ <a href = http://www.statsmodels.org/dev/regression.html>線形回帰の説明：Linear Regression</a>    \n",
    "+ 線形回帰計算結果の説明：statsmodels.regression.linear_model.RegressionResults   \n",
    "+ OLSの使い方:statsmodels.regression.linear_model.OLS    "
   ]
  },
  {
   "cell_type": "markdown",
   "metadata": {},
   "source": [
    "### 単回帰分析  \n",
    "**単回帰分析(simple linear regression)**は$y = \\beta_{0} + \\beta_{1}x$の1次式を扱う。得られたデータから偏回帰係数を推定してモデルを求め、これを用いて予測を行っていく。   \n"
   ]
  },
  {
   "cell_type": "markdown",
   "metadata": {},
   "source": [
    "#### 単回帰分析の意義      \n",
    "下図において、散布図は何らかの観測によって計測した値をプロットしたものである。この時xは説明変数、yは目的変数である。  \n",
    "xとyの関係が1次式で表されると仮定して、次の単回帰モデルを導入する。   \n",
    "$$\n",
    "y = \\beta_{0} + \\beta_{1} x\n",
    "$$\n",
    "このモデルが観測したデータに最もフィットするように偏回帰係数($\\beta_{0}$, $\\beta_{1}$)を求める。  "
   ]
  },
  {
   "cell_type": "code",
   "execution_count": 193,
   "metadata": {},
   "outputs": [
    {
     "data": {
      "text/plain": [
       "Text(0, 0.5, 'y')"
      ]
     },
     "execution_count": 193,
     "metadata": {},
     "output_type": "execute_result"
    },
    {
     "data": {
      "image/png": "[encoded data removed]",
      "text/plain": [
       "<Figure size 432x288 with 1 Axes>"
      ]
     },
     "metadata": {
      "needs_background": "light"
     },
     "output_type": "display_data"
    }
   ],
   "source": [
    "# create random variables, y = 0.25x + 3 + e\n",
    "np.random.seed(123)\n",
    "x = np.random.randint(-20, 60, 30).reshape(-1, 1)   # 1d-array is not used for sklearn, so reshape(-1, 1)\n",
    "y = x * 0.25 + 3 + np.random.randint(-5, 5, 30).reshape(-1, 1)\n",
    "\n",
    "# creating linear regression model\n",
    "model = LinearRegression()\n",
    "model.fit(x, y)\n",
    "\n",
    "# prediction from linear model\n",
    "y_pred = model.predict(x)\n",
    "\n",
    "# scatter plot and regression line\n",
    "plt.scatter(x, y)\n",
    "plt.plot(x, y_pred, color = \"red\")\n",
    "plt.xlabel(\"x\")\n",
    "plt.ylabel(\"y\", rotation = 0)"
   ]
  },
  {
   "cell_type": "markdown",
   "metadata": {},
   "source": [
    "通常は最小2乗法を用いて単回帰モデルを求め、これを直線でプロットしたものが上図である。  \n",
    "この単回帰モデルは数式(連続値をとり$-\\infty$ ~ $\\infty$の区間をとる)で表されるため求めることの意義は下のようになる。  \n",
    "+ 計測データは離散値である。このため、隣り合うデータのyを知りたい場合にこの値をよくすることができる。   \n",
    "+ この例では$-20 \\leq x \\leq 60$であるが、この区間を超えたyを予測することができる。   \n",
    "+ パラメーター$\\beta_{0}$, $\\beta{1}$を見ることで説明変数に基づく目的変数の発生メカニズムを知ることができる。  "
   ]
  },
  {
   "cell_type": "markdown",
   "metadata": {},
   "source": [
    "#### 単回帰モデルの統計的評価     \n",
    "上図において誤差$e$は離散時系列データ$\\{ e_i \\}$, $(i = 1 \\sim N)$であり、確率変数と考えることができる。こうすれば単回帰モデルは確率システムとなりモデルの良し悪しを統計的に評価できる。特に誤差が正規分布に従うと仮定した時の評価指標は理論的に整備されている。   \n",
    "\n",
    "##### 偏回帰係数のt検定   \n",
    "単回帰モデルが確率システムという仮定の下、偏回帰係数は確率変数となる。特に係数$\\beta_{0}$, $\\beta_{1}$の値が0か否かは問題になり次の仮説検定が行われる。   \n",
    "\n",
    "$H_0$:係数は0である   \n",
    "$H_1$:係数は0でない   \n",
    "\n",
    "ここに、係数は$\\beta_{0}$または$\\beta_{1}$のいずれかを表し、それぞれ別途に検定される。   \n",
    "各係数の検定には$e_i$の分散を用いるが、この分散は未知であるため標本分散を用いたt検定を行うこととなる。  \n",
    "\n",
    "#### 決定係数\n",
    "**決定係数(coefficient of determination)**は$R^2$で表され、回帰モデルのデータに対する当てはまりの指標である。   \n",
    "これは以下の範囲をとる。   \n",
    "$$\n",
    "0 \\leq R^2 \\leq 1\n",
    "$$\n",
    "この式において1に近いほど当てはまりが良いとされ、説明変数が目的変数を良く説明していると言われている。    \n",
    "ただし、$R^2$は絶対的な指標ではなくあくまでも目安であること考えないといけない。下図の一つ目では$R_{green}^2 \\leq R_{red}^2$という結果は妥当であるが、二つ目の図では赤の単回帰モデルの方が良いようにも思える。   \n",
    "モデルの当てはまりの判断はデータの背景や使用条件にも左右されるのでどちらのモデルが良いかの判断は$R^2$だけでは決められないことが多々ある。    "
   ]
  },
  {
   "cell_type": "code",
   "execution_count": 55,
   "metadata": {},
   "outputs": [
    {
     "data": {
      "text/plain": [
       "Text(0, 0.5, 'y')"
      ]
     },
     "execution_count": 55,
     "metadata": {},
     "output_type": "execute_result"
    },
    {
     "data": {
      "image/png": "[encoded data removed]",
      "text/plain": [
       "<Figure size 432x288 with 1 Axes>"
      ]
     },
     "metadata": {
      "needs_background": "light"
     },
     "output_type": "display_data"
    }
   ],
   "source": [
    "# R^2(red) > R^2(green)はぽい\n",
    "plt.scatter(x, y)\n",
    "plt.plot(x, 0.25 * x + 3,, color = \"red\")\n",
    "plt.plot(x, 0.4 * x + 3, color = \"green\")\n",
    "plt.xlabel(\"x\")\n",
    "plt.ylabel(\"y\", rotation = 0)"
   ]
  },
  {
   "cell_type": "code",
   "execution_count": 63,
   "metadata": {},
   "outputs": [
    {
     "data": {
      "text/plain": [
       "Text(0, 0.5, 'y')"
      ]
     },
     "execution_count": 63,
     "metadata": {},
     "output_type": "execute_result"
    },
    {
     "data": {
      "image/png": "[encoded data removed]",
      "text/plain": [
       "<Figure size 432x288 with 1 Axes>"
      ]
     },
     "metadata": {
      "needs_background": "light"
     },
     "output_type": "display_data"
    }
   ],
   "source": [
    "# R^2(green) > R^2(red) ?\n",
    "# 外れ値に引っ張られてR^2の適切な評価が難しくなっている\n",
    "x_new = np.insert(x, -1, np.random.randint(20, 40, 10))\n",
    "y_new = np.insert(y, -1, np.random.randint(15, 25, 10))\n",
    "plt.scatter(x_new, y_new)\n",
    "plt.plot(x_new, 0.25 * x_new + 3, color = \"red\")\n",
    "plt.plot(x_new, 0.4 * x_new + 3, color = \"green\")\n",
    "plt.xlabel(\"x\")\n",
    "plt.ylabel(\"y\", rotation = 0)"
   ]
  },
  {
   "cell_type": "markdown",
   "metadata": {},
   "source": [
    "#### 家計調査    \n",
    "家計調査のWebサイト(総務省統計局)から、2人以上世帯に対して一人あたりの支出とエンゲル係数のそれぞれに対して単回帰分析を行う。   \n"
   ]
  },
  {
   "cell_type": "code",
   "execution_count": 4,
   "metadata": {},
   "outputs": [
    {
     "data": {
      "text/html": [
       "<div>\n",
       "<style scoped>\n",
       "    .dataframe tbody tr th:only-of-type {\n",
       "        vertical-align: middle;\n",
       "    }\n",
       "\n",
       "    .dataframe tbody tr th {\n",
       "        vertical-align: top;\n",
       "    }\n",
       "\n",
       "    .dataframe thead th {\n",
       "        text-align: right;\n",
       "    }\n",
       "</style>\n",
       "<table border=\"1\" class=\"dataframe\">\n",
       "  <thead>\n",
       "    <tr style=\"text-align: right;\">\n",
       "      <th></th>\n",
       "      <th>income</th>\n",
       "      <th>expenditure</th>\n",
       "      <th>engel</th>\n",
       "    </tr>\n",
       "  </thead>\n",
       "  <tbody>\n",
       "    <tr>\n",
       "      <td>0</td>\n",
       "      <td>216</td>\n",
       "      <td>172462</td>\n",
       "      <td>30.8</td>\n",
       "    </tr>\n",
       "    <tr>\n",
       "      <td>1</td>\n",
       "      <td>304</td>\n",
       "      <td>204599</td>\n",
       "      <td>29.9</td>\n",
       "    </tr>\n",
       "    <tr>\n",
       "      <td>2</td>\n",
       "      <td>356</td>\n",
       "      <td>224776</td>\n",
       "      <td>28.8</td>\n",
       "    </tr>\n",
       "    <tr>\n",
       "      <td>3</td>\n",
       "      <td>413</td>\n",
       "      <td>240153</td>\n",
       "      <td>27.8</td>\n",
       "    </tr>\n",
       "    <tr>\n",
       "      <td>4</td>\n",
       "      <td>481</td>\n",
       "      <td>255497</td>\n",
       "      <td>27.3</td>\n",
       "    </tr>\n",
       "  </tbody>\n",
       "</table>\n",
       "</div>"
      ],
      "text/plain": [
       "   income  expenditure  engel\n",
       "0     216       172462   30.8\n",
       "1     304       204599   29.9\n",
       "2     356       224776   28.8\n",
       "3     413       240153   27.8\n",
       "4     481       255497   27.3"
      ]
     },
     "execution_count": 4,
     "metadata": {},
     "output_type": "execute_result"
    }
   ],
   "source": [
    "url = \"http://sites.google.com/site/datasciencehiro/datasets/FamilyIncome.csv\"\n",
    "df = pd.read_csv(url, comment = \"#\")\n",
    "df.head()"
   ]
  },
  {
   "cell_type": "markdown",
   "metadata": {},
   "source": [
    "データは上記のようにincome(万円/year), expenditure(円/month), engel(エンゲル係数)の並びである。   \n",
    "このデータにおいて説明変数をincome, 目的変数をexpenditureとして単回帰分析を行う。   "
   ]
  },
  {
   "cell_type": "code",
   "execution_count": 119,
   "metadata": {},
   "outputs": [
    {
     "name": "stdout",
     "output_type": "stream",
     "text": [
      "                            OLS Regression Results                            \n",
      "==============================================================================\n",
      "Dep. Variable:            expenditure   R-squared:                       0.987\n",
      "Model:                            OLS   Adj. R-squared:                  0.986\n",
      "Method:                 Least Squares   F-statistic:                     624.7\n",
      "Date:                Wed, 02 Oct 2019   Prob (F-statistic):           7.02e-09\n",
      "Time:                        20:14:13   Log-Likelihood:                -105.43\n",
      "No. Observations:                  10   AIC:                             214.9\n",
      "Df Residuals:                       8   BIC:                             215.5\n",
      "Df Model:                           1                                         \n",
      "Covariance Type:            nonrobust                                         \n",
      "==============================================================================\n",
      "                 coef    std err          t      P>|t|      [0.025      0.975]\n",
      "------------------------------------------------------------------------------\n",
      "Intercept     1.4e+05   6550.516     21.366      0.000    1.25e+05    1.55e+05\n",
      "income       233.8560      9.356     24.994      0.000     212.280     255.432\n",
      "==============================================================================\n",
      "Omnibus:                        2.090   Durbin-Watson:                   1.074\n",
      "Prob(Omnibus):                  0.352   Jarque-Bera (JB):                1.285\n",
      "Skew:                          -0.825   Prob(JB):                        0.526\n",
      "Kurtosis:                       2.400   Cond. No.                     1.41e+03\n",
      "==============================================================================\n",
      "\n",
      "Warnings:\n",
      "[1] Standard Errors assume that the covariance matrix of the errors is correctly specified.\n",
      "[2] The condition number is large, 1.41e+03. This might indicate that there are\n",
      "strong multicollinearity or other numerical problems.\n"
     ]
    },
    {
     "data": {
      "text/plain": [
       "Text(0, 0.5, 'expenditure')"
      ]
     },
     "execution_count": 119,
     "metadata": {},
     "output_type": "execute_result"
    },
    {
     "data": {
      "image/png": "[encoded data removed]",
      "text/plain": [
       "<Figure size 432x288 with 1 Axes>"
      ]
     },
     "metadata": {
      "needs_background": "light"
     },
     "output_type": "display_data"
    }
   ],
   "source": [
    "# 今回はR風の表記が可能なstatsmodels.formula.apiを用いる\n",
    "result = smf.ols(\"expenditure ~ income\", data = df).fit()\n",
    "# summary table\n",
    "# kの表記はRの表記に従う(Pasty)\n",
    "print(result.summary())\n",
    "\n",
    "# extract parameter\n",
    "b0, b1 = result.params\n",
    "# prediction\n",
    "predict = result.predict(df.income)\n",
    "\n",
    "# scatter plot and regression line\n",
    "plt.scatter(df.income, df.expenditure)\n",
    "plt.plot(df.income, predict, color = \"red\")\n",
    "plt.xlabel(\"income\")\n",
    "plt.ylabel(\"expenditure\")"
   ]
  },
  {
   "cell_type": "markdown",
   "metadata": {},
   "source": [
    "##### 単回帰モデルを用いた予測   \n",
    "この図より単回帰モデルが良い指標になると判断するなら、データにはない年間年収1100万円、1200万円家庭の1ヶ月支出が予測できる。   "
   ]
  },
  {
   "cell_type": "code",
   "execution_count": 132,
   "metadata": {},
   "outputs": [
    {
     "data": {
      "text/plain": [
       "0    397198.498402\n",
       "1    420584.101981\n",
       "dtype: float64"
      ]
     },
     "execution_count": 132,
     "metadata": {},
     "output_type": "execute_result"
    }
   ],
   "source": [
    "# making new data frame\n",
    "new_df = pd.DataFrame({ \"income\" : [1100, 1200] })\n",
    "\n",
    "# prediction\n",
    "result.predict(new_df.income)\n",
    "# 1100 -> 397198, 1200 -> 420584"
   ]
  },
  {
   "cell_type": "markdown",
   "metadata": {},
   "source": [
    "このグラフでは最低収入と最高収入が大きく外れているため、中間層のみで考えるならこの2セットを外して再度の単回帰分析を行う。  "
   ]
  },
  {
   "cell_type": "code",
   "execution_count": 134,
   "metadata": {},
   "outputs": [
    {
     "name": "stdout",
     "output_type": "stream",
     "text": [
      "                            OLS Regression Results                            \n",
      "==============================================================================\n",
      "Dep. Variable:            expenditure   R-squared:                       0.998\n",
      "Model:                            OLS   Adj. R-squared:                  0.998\n",
      "Method:                 Least Squares   F-statistic:                     2889.\n",
      "Date:                Wed, 02 Oct 2019   Prob (F-statistic):           2.78e-09\n",
      "Time:                        20:23:14   Log-Likelihood:                -73.085\n",
      "No. Observations:                   8   AIC:                             150.2\n",
      "Df Residuals:                       6   BIC:                             150.3\n",
      "Df Model:                           1                                         \n",
      "Covariance Type:            nonrobust                                         \n",
      "==============================================================================\n",
      "                 coef    std err          t      P>|t|      [0.025      0.975]\n",
      "------------------------------------------------------------------------------\n",
      "Intercept   1.314e+05   2784.282     47.195      0.000    1.25e+05    1.38e+05\n",
      "income       256.6572      4.775     53.754      0.000     244.974     268.340\n",
      "==============================================================================\n",
      "Omnibus:                        3.508   Durbin-Watson:                   1.490\n",
      "Prob(Omnibus):                  0.173   Jarque-Bera (JB):                1.091\n",
      "Skew:                          -0.903   Prob(JB):                        0.580\n",
      "Kurtosis:                       3.086   Cond. No.                     1.77e+03\n",
      "==============================================================================\n",
      "\n",
      "Warnings:\n",
      "[1] Standard Errors assume that the covariance matrix of the errors is correctly specified.\n",
      "[2] The condition number is large, 1.77e+03. This might indicate that there are\n",
      "strong multicollinearity or other numerical problems.\n"
     ]
    },
    {
     "name": "stderr",
     "output_type": "stream",
     "text": [
      "/anaconda3/envs/python_project/lib/python3.7/site-packages/scipy/stats/stats.py:1450: UserWarning: kurtosistest only valid for n>=20 ... continuing anyway, n=8\n",
      "  \"anyway, n=%i\" % int(n))\n"
     ]
    },
    {
     "data": {
      "text/plain": [
       "0    413726.444185\n",
       "1    439392.167813\n",
       "dtype: float64"
      ]
     },
     "execution_count": 134,
     "metadata": {},
     "output_type": "execute_result"
    },
    {
     "data": {
      "image/png": "[encoded data removed]",
      "text/plain": [
       "<Figure size 432x288 with 1 Axes>"
      ]
     },
     "metadata": {
      "needs_background": "light"
     },
     "output_type": "display_data"
    }
   ],
   "source": [
    "# extract only intermediate levels\n",
    "df_trim = df[(df.income < df.income.max()) & (df.income > df.income.min())]\n",
    "\n",
    "# fit linear regression\n",
    "result_trim = smf.ols(\"expenditure ~ income\", data = df_trim).fit()\n",
    "\n",
    "# show summary\n",
    "print(result_trim.summary())\n",
    "\n",
    "# return prediction\n",
    "predict_trim = result_trim.predict(df.income)\n",
    "\n",
    "# show scatter plot and regression line\n",
    "plt.scatter(df.income, df.expenditure)\n",
    "plt.plot(df.income, predict_trim, color = \"red\")\n",
    "plt.xlabel(\"income\")\n",
    "plt.ylabel(\"expenditure\")\n",
    "\n",
    "# prediction from new data\n",
    "result_trim.predict(new_df.income)\n",
    "# 1100 -> 413726, 1200 -> 439392"
   ]
  },
  {
   "cell_type": "markdown",
   "metadata": {},
   "source": [
    "目的変数をエンゲル係数、説明変数を収入とした時は以下のようになる"
   ]
  },
  {
   "cell_type": "code",
   "execution_count": 136,
   "metadata": {},
   "outputs": [
    {
     "name": "stdout",
     "output_type": "stream",
     "text": [
      "                            OLS Regression Results                            \n",
      "==============================================================================\n",
      "Dep. Variable:                  engel   R-squared:                       0.882\n",
      "Model:                            OLS   Adj. R-squared:                  0.867\n",
      "Method:                 Least Squares   F-statistic:                     59.88\n",
      "Date:                Wed, 02 Oct 2019   Prob (F-statistic):           5.54e-05\n",
      "Time:                        20:25:27   Log-Likelihood:                -13.470\n",
      "No. Observations:                  10   AIC:                             30.94\n",
      "Df Residuals:                       8   BIC:                             31.55\n",
      "Df Model:                           1                                         \n",
      "Covariance Type:            nonrobust                                         \n",
      "==============================================================================\n",
      "                 coef    std err          t      P>|t|      [0.025      0.975]\n",
      "------------------------------------------------------------------------------\n",
      "Intercept     31.0757      0.664     46.781      0.000      29.544      32.608\n",
      "income        -0.0073      0.001     -7.738      0.000      -0.010      -0.005\n",
      "==============================================================================\n",
      "Omnibus:                        2.365   Durbin-Watson:                   0.946\n",
      "Prob(Omnibus):                  0.306   Jarque-Bera (JB):                1.049\n",
      "Skew:                           0.383   Prob(JB):                        0.592\n",
      "Kurtosis:                       1.610   Cond. No.                     1.41e+03\n",
      "==============================================================================\n",
      "\n",
      "Warnings:\n",
      "[1] Standard Errors assume that the covariance matrix of the errors is correctly specified.\n",
      "[2] The condition number is large, 1.41e+03. This might indicate that there are\n",
      "strong multicollinearity or other numerical problems.\n"
     ]
    },
    {
     "data": {
      "text/plain": [
       "Text(0, 0.5, 'engel coeff')"
      ]
     },
     "execution_count": 136,
     "metadata": {},
     "output_type": "execute_result"
    },
    {
     "data": {
      "image/png": "[encoded data removed]",
      "text/plain": [
       "<Figure size 432x288 with 1 Axes>"
      ]
     },
     "metadata": {
      "needs_background": "light"
     },
     "output_type": "display_data"
    }
   ],
   "source": [
    "# regression and show summary\n",
    "result_engel = smf.ols(\"engel ~ income\", data = df).fit()\n",
    "print(result_engel.summary())\n",
    "\n",
    "# scatter plot and regression line\n",
    "predict_engel = result_engel.predict(df.income)\n",
    "\n",
    "plt.scatter(df.income, df.engel)\n",
    "plt.plot(df.income, predict_engel, color = \"red\")\n",
    "plt.xlabel(\"income\")\n",
    "plt.ylabel(\"engel coeff\")"
   ]
  },
  {
   "cell_type": "markdown",
   "metadata": {},
   "source": [
    "#### Simpson's Paradox  \n",
    "回帰分析を直ちに行うのではなく、その前にデータの可視化も含めていくつかの統計的特徴量を見てから回帰分析を実施し、この事前分析と照合して結果を評価することが望ましい。    \n",
    "これを怠ると間違いを犯す代表的な例としてSimpton's Paradoxがある。これは母集団の相関と部分集合の相関が異なる時に、部分集団の仮説や統計分析結果が母集団と正反対の結果が出ることを指摘している。以下に詳しい説明がある。    \n",
    "+ <a href = \"https://en.wikipedia.org/wiki/Simpson%27s_paradox\">Wikipedia : Simpton's Paradox</a>\n",
    "+ <a href = \"https://doi.org/10.1515/jci-2016-0021\">Judea Pearl : Lord's Paradox Revisited (Oh Lord! Kumbaya!), Journal of Causal Inference, 2016</a>"
   ]
  },
  {
   "cell_type": "markdown",
   "metadata": {},
   "source": [
    "回帰分析を闇雲に行うとおかしな結果になること例として下記の仮想データを考える。   \n",
    "勉強時間(study_time)とテストの点(test_score)のデータセットであるが、今回はテストスコアと勉強時間は係数2.5の正の相関関係を持たしているが、勉強時間が少なくても高い点数が取れるグループ(education = high)とそうでないグループ(education = low)にわけ、前者のグループが優位にテスト勉強をしていなかったというセッティングである。   "
   ]
  },
  {
   "cell_type": "code",
   "execution_count": 188,
   "metadata": {},
   "outputs": [
    {
     "data": {
      "text/html": [
       "<div>\n",
       "<style scoped>\n",
       "    .dataframe tbody tr th:only-of-type {\n",
       "        vertical-align: middle;\n",
       "    }\n",
       "\n",
       "    .dataframe tbody tr th {\n",
       "        vertical-align: top;\n",
       "    }\n",
       "\n",
       "    .dataframe thead th {\n",
       "        text-align: right;\n",
       "    }\n",
       "</style>\n",
       "<table border=\"1\" class=\"dataframe\">\n",
       "  <thead>\n",
       "    <tr style=\"text-align: right;\">\n",
       "      <th></th>\n",
       "      <th>study_time</th>\n",
       "      <th>test_score</th>\n",
       "      <th>education</th>\n",
       "    </tr>\n",
       "  </thead>\n",
       "  <tbody>\n",
       "    <tr>\n",
       "      <td>0</td>\n",
       "      <td>1.0</td>\n",
       "      <td>66.029573</td>\n",
       "      <td>high</td>\n",
       "    </tr>\n",
       "    <tr>\n",
       "      <td>1</td>\n",
       "      <td>3.0</td>\n",
       "      <td>72.306059</td>\n",
       "      <td>high</td>\n",
       "    </tr>\n",
       "    <tr>\n",
       "      <td>2</td>\n",
       "      <td>2.0</td>\n",
       "      <td>83.718561</td>\n",
       "      <td>high</td>\n",
       "    </tr>\n",
       "    <tr>\n",
       "      <td>3</td>\n",
       "      <td>0.0</td>\n",
       "      <td>66.009686</td>\n",
       "      <td>high</td>\n",
       "    </tr>\n",
       "    <tr>\n",
       "      <td>4</td>\n",
       "      <td>1.0</td>\n",
       "      <td>72.648416</td>\n",
       "      <td>high</td>\n",
       "    </tr>\n",
       "  </tbody>\n",
       "</table>\n",
       "</div>"
      ],
      "text/plain": [
       "   study_time  test_score education\n",
       "0         1.0   66.029573      high\n",
       "1         3.0   72.306059      high\n",
       "2         2.0   83.718561      high\n",
       "3         0.0   66.009686      high\n",
       "4         1.0   72.648416      high"
      ]
     },
     "execution_count": 188,
     "metadata": {},
     "output_type": "execute_result"
    }
   ],
   "source": [
    "np.random.seed(123)\n",
    "\n",
    "# 優秀グループは勉強時間が少ないが取れる点数が高い。\n",
    "study_time_high = np.round(np.random.normal(loc = 2, scale = 1, size = 50), 0) \n",
    "test_score_high =  study_time_high * 2.5 + np.random.normal(loc = 70, scale = 5, size = 50)\n",
    "\n",
    "# 優秀でないグループはたくさん勉強するが点数が低い。\n",
    "study_time_low = np.round(np.random.normal(loc = 5, scale = 1, size = 50), 0)\n",
    "test_score_low = study_time_low * 2.5 + np.random.normal(loc = 50, scale = 5, size = 50)\n",
    "\n",
    "# 各グループのデータセットを作成し、結合する。\n",
    "df_high = pd.DataFrame( {\"study_time\" : study_time_high, \n",
    "                                       \"test_score\" : test_score_high, \n",
    "                                       \"education\" : \"high\"} )\n",
    "\n",
    "df_low = pd.DataFrame( {\"study_time\" : study_time_low, \n",
    "                                      \"test_score\" : test_score_low, \n",
    "                                      \"education\" : \"low\"} )\n",
    "\n",
    "df_full = pd.concat([df_high, df_low])\n",
    "df_full.head()\n"
   ]
  },
  {
   "cell_type": "code",
   "execution_count": 189,
   "metadata": {},
   "outputs": [
    {
     "name": "stdout",
     "output_type": "stream",
     "text": [
      "                            OLS Regression Results                            \n",
      "==============================================================================\n",
      "Dep. Variable:             test_score   R-squared:                       0.207\n",
      "Model:                            OLS   Adj. R-squared:                  0.199\n",
      "Method:                 Least Squares   F-statistic:                     25.63\n",
      "Date:                Wed, 02 Oct 2019   Prob (F-statistic):           1.94e-06\n",
      "Time:                        21:28:36   Log-Likelihood:                -344.64\n",
      "No. Observations:                 100   AIC:                             693.3\n",
      "Df Residuals:                      98   BIC:                             698.5\n",
      "Df Model:                           1                                         \n",
      "Covariance Type:            nonrobust                                         \n",
      "==============================================================================\n",
      "                 coef    std err          t      P>|t|      [0.025      0.975]\n",
      "------------------------------------------------------------------------------\n",
      "Intercept     75.5838      1.586     47.658      0.000      72.436      78.731\n",
      "study_time    -1.9850      0.392     -5.063      0.000      -2.763      -1.207\n",
      "==============================================================================\n",
      "Omnibus:                        1.266   Durbin-Watson:                   1.742\n",
      "Prob(Omnibus):                  0.531   Jarque-Bera (JB):                1.194\n",
      "Skew:                          -0.127   Prob(JB):                        0.551\n",
      "Kurtosis:                       2.529   Cond. No.                         8.76\n",
      "==============================================================================\n",
      "\n",
      "Warnings:\n",
      "[1] Standard Errors assume that the covariance matrix of the errors is correctly specified.\n"
     ]
    }
   ],
   "source": [
    "# データ全体で単線計回帰\n",
    "lm_full = smf.ols(\"test_score ~ study_time\", data = df_full).fit()\n",
    "print(lm_full.summary())\n",
    "\n",
    "# coef = -1.985, p-val = 0.000 優位に負の相関？！"
   ]
  },
  {
   "cell_type": "code",
   "execution_count": 190,
   "metadata": {},
   "outputs": [
    {
     "name": "stdout",
     "output_type": "stream",
     "text": [
      "                            OLS Regression Results                            \n",
      "==============================================================================\n",
      "Dep. Variable:             test_score   R-squared:                       0.212\n",
      "Model:                            OLS   Adj. R-squared:                  0.196\n",
      "Method:                 Least Squares   F-statistic:                     12.94\n",
      "Date:                Wed, 02 Oct 2019   Prob (F-statistic):           0.000759\n",
      "Time:                        21:29:47   Log-Likelihood:                -154.45\n",
      "No. Observations:                  50   AIC:                             312.9\n",
      "Df Residuals:                      48   BIC:                             316.7\n",
      "Df Model:                           1                                         \n",
      "Covariance Type:            nonrobust                                         \n",
      "==============================================================================\n",
      "                 coef    std err          t      P>|t|      [0.025      0.975]\n",
      "------------------------------------------------------------------------------\n",
      "Intercept     70.5336      1.484     47.524      0.000      67.549      73.518\n",
      "study_time     2.3322      0.648      3.597      0.001       1.029       3.636\n",
      "==============================================================================\n",
      "Omnibus:                        8.774   Durbin-Watson:                   2.134\n",
      "Prob(Omnibus):                  0.012   Jarque-Bera (JB):                2.644\n",
      "Skew:                           0.024   Prob(JB):                        0.267\n",
      "Kurtosis:                       1.875   Cond. No.                         5.08\n",
      "==============================================================================\n",
      "\n",
      "Warnings:\n",
      "[1] Standard Errors assume that the covariance matrix of the errors is correctly specified.\n"
     ]
    }
   ],
   "source": [
    "# グループわけして線形回帰\n",
    "lm_high = smf.ols(\"test_score ~ study_time\", data = df_high).fit()\n",
    "print(lm_high.summary())\n",
    "\n",
    "# coef = 2, p-val = 0.001 シュミレーションの内容に近い"
   ]
  },
  {
   "cell_type": "code",
   "execution_count": 191,
   "metadata": {},
   "outputs": [
    {
     "data": {
      "text/plain": [
       "<matplotlib.axes._subplots.AxesSubplot at 0x1a27eb8f10>"
      ]
     },
     "execution_count": 191,
     "metadata": {},
     "output_type": "execute_result"
    },
    {
     "data": {
      "image/png": "[encoded data removed]",
      "text/plain": [
       "<Figure size 432x288 with 1 Axes>"
      ]
     },
     "metadata": {
      "needs_background": "light"
     },
     "output_type": "display_data"
    }
   ],
   "source": [
    "# 散布図をかくと異なる2グループを混ぜて考えたせいで見かけ上の負の相関ができたことが明らか\n",
    "sns.scatterplot(x = \"study_time\", y = \"test_score\", hue = \"education\", data = df_full)"
   ]
  },
  {
   "cell_type": "markdown",
   "metadata": {},
   "source": [
    "#### 数学的説明   \n",
    "はじめに次の事を設定する。    \n",
    "**取得データ** $\\{ x_{i}, y_{i} \\}  \\ (i = 1, \\cdots, N)$   \n",
    "**真のシステム** $y_{i} = \\beta_0 + \\beta_1 x_i + \\epsilon_i, \\ \\ \\  \\epsilon_i \\sim N(0, \\sigma^2)$    \n",
    "**回帰モデル** $\\hat{y_i} = \\hat{\\beta_0} + \\hat{\\beta_1} x_i$   \n",
    "**$x$, $y$の標本平均** $\\hat{\\mu_x}, \\hat{\\mu_y}$ "
   ]
  }
 ],
 "metadata": {
  "kernelspec": {
   "display_name": "Python 3",
   "language": "python",
   "name": "python3"
  },
  "language_info": {
   "codemirror_mode": {
    "name": "ipython",
    "version": 3
   },
   "file_extension": ".py",
   "mimetype": "text/x-python",
   "name": "python",
   "nbconvert_exporter": "python",
   "pygments_lexer": "ipython3",
   "version": "3.7.4"
  }
 },
 "nbformat": 4,
 "nbformat_minor": 2
}
