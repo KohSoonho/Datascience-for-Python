{
 "cells": [
  {
   "cell_type": "code",
   "execution_count": 1,
   "metadata": {},
   "outputs": [],
   "source": [
    "import numpy as np\n",
    "import matplotlib.pyplot as plt\n",
    "import scipy.stats"
   ]
  },
  {
   "cell_type": "markdown",
   "metadata": {},
   "source": [
    "## 統計の基礎    \n",
    "**統計**(statistics)は、標本を調べることで母集団の性質を明らかにすることを目的として、個々の要素を標本化(サンプリング、sampling)してこれを分析し、母集団の性質を数量的に表すことである。本章では、必要最低限の統計として推定・検定について説明する"
   ]
  },
  {
   "cell_type": "markdown",
   "metadata": {},
   "source": [
    "### 統計とは   \n",
    "**母集団(population)**の特徴を表すのが**母数(parameter)** $\\theta$である。母数は**母平均($\\mu$) (population mean)**, **母分散($\\sigma^2$) (population variance)**などいくつか候補がある。      \n",
    "母集団が全てを知ることができない場合にはこれらの要素をいくつが抽出する。これを**標本化(sampling)**といい、得られた物を**標本(sample)**という。この標本に対してなんらかの分析を行い母数を推定することを**統計(statistics)**である。    \n",
    "標本から計算される数値(標本平均、標本標準偏差など)を**統計量(statictic)**という。標本は母集団の一部であるので統計量を通して母数を推定していく。   "
   ]
  },
  {
   "cell_type": "markdown",
   "metadata": {},
   "source": [
    "### 推定    \n",
    "標本から得られた統計量をもとにして、母数の存在する範囲を求めることを**統計的推定(statistical inference)**という。推定には一つの値を推定する**点推定**と範囲を指定する**区間推定**がある。    "
   ]
  },
  {
   "cell_type": "markdown",
   "metadata": {},
   "source": [
    "#### 点推定\n",
    "**点推定(point estimation)**とは、母集団の母数を一つの値で推定する方法である。点推定の望ましい性質として不偏性、一致性、有効性がよく用いられる。    \n",
    "    \n",
    "##### 不偏推定量     \n",
    "不偏性とは推定量$\\hat{\\theta}$の期待値が母数$\\theta$に一致することである。すなわち\n",
    "$$\n",
    "E[\\hat{\\theta}] = \\theta\n",
    "$$\n",
    "が成立する時推定量$\\hat{\\theta}$を**不偏推定量(unbiased estimator)**と呼ぶ。この性質を持つとき、$\\theta$の周りに$\\hat{\\theta}$が分布する。    \n",
    "(推定値が真値より大きめに推定されやすかったり少なめに推定されやすいことはない)       \n",
    "(推定量がどれだけ真値に近づくかについては一致性である)     \n",
    "母平均$\\mu$と母分散$\\sigma^2$の点推定として、標本平均$\\hat{\\mu}$と標本分散$\\hat{\\sigma}^2$の計算式は次のように示される。     \n",
    "$$\n",
    "\\hat{\\mu} = \\frac{1}{N} \\displaystyle \\sum_{i=1}^{N} x_i    \\\\\n",
    "\\hat{\\sigma}^2 = \\frac{1}{N-1} \\displaystyle \\sum_{i=1}^{N} (x_i - \\hat{\\mu})^2\n",
    "$$\n",
    "(標本分散では$N$で割るが不偏分散では不偏性を確保するのに$N-1$で割っていることに注意。証明は以下)       \n",
    "     \n",
    "標本平均の期待値については     \n",
    "$$\n",
    "\\begin{align}\n",
    "E[\\hat{\\mu}] &= \\frac{1}{N} E[\\displaystyle \\sum_{i=1}^{N} x_i] \\\\\n",
    "             &= \\frac{1}{N}N \\mu \\\\\n",
    "             &= \\mu\n",
    "\\end{align}\n",
    "$$    \n",
    "これより、標本平均は不偏推定量である。    \n",
    "     \n",
    "次に標本分散の期待値について考えると   \n",
    "$$\n",
    "\\begin{align}\n",
    "E[\\hat{\\sigma}^2] &= E[\\frac{1}{N-1} \\displaystyle \\sum_{i=1}^{N} (x_i - \\hat{\\mu})^2] \\\\\n",
    "                  &= \\frac{1}{N-1}E[\\displaystyle \\sum_{i=1}^{N} \\{ (x_i - \\mu)^2 - (\\hat{\\mu} - \\mu)^2 \\}] \\\\  \n",
    "                  &= \\frac{1}{N-1} \\{ E[\\displaystyle \\sum_{i=1}^{N}  (x_i - \\mu)^2] - nE[(\\hat{\\mu} - \\mu)^2 ] \\} \\\\ \n",
    "                  &= \\frac{1}{N-1} \\{ E[\\displaystyle \\sum_{i=1}^{N}  (x_i - \\mu)^2] - nV[\\hat{\\mu}] \\} \\\\ \n",
    "                  &= \\frac{1}{N-1}(N \\sigma^2 - n \\cdot \\frac{\\sigma^2}{n}) \\\\\n",
    "                  &= \\sigma^2\n",
    "\\end{align}\n",
    "$$    \n",
    "\n",
    "(中心極限定理より標本平均$\\hat{\\mu}$の分散$V[\\hat{\\mu}] = \\frac{\\sigma^2}{n}$となる)     \n",
    "となり、$\\hat{\\sigma}^2$は不偏推定量となる。(標本分散の式で記述統計のNでわると不偏分散とならずやや少なめに算出されることがわかる)      "
   ]
  },
  {
   "cell_type": "code",
   "execution_count": 13,
   "metadata": {},
   "outputs": [
    {
     "data": {
      "text/plain": [
       "(array([ 0.,  0.,  1.,  1.,  0.,  3.,  4.,  9., 15., 15., 15.,  9.,  9.,\n",
       "         8.,  5.,  3.,  1.,  1.,  1.,  0.]),\n",
       " array([1.5 , 1.55, 1.6 , 1.65, 1.7 , 1.75, 1.8 , 1.85, 1.9 , 1.95, 2.  ,\n",
       "        2.05, 2.1 , 2.15, 2.2 , 2.25, 2.3 , 2.35, 2.4 , 2.45, 2.5 ]),\n",
       " <a list of 20 Patch objects>)"
      ]
     },
     "execution_count": 13,
     "metadata": {},
     "output_type": "execute_result"
    },
    {
     "data": {
      "image/png": "[encoded data removed]",
      "text/plain": [
       "<Figure size 432x288 with 1 Axes>"
      ]
     },
     "metadata": {
      "needs_background": "light"
     },
     "output_type": "display_data"
    }
   ],
   "source": [
    "# 標本平均を実際に見てみる\n",
    "# シードを1に設定\n",
    "np.random.seed(1)  \n",
    "\n",
    "# 母集団がmean = 2, std = 0.5の正規分布に従うと仮定\n",
    "mean, std = 2, 0.5\n",
    "\n",
    "# サンプル数Nの標本をnum個作成して標本平均のヒストグラムを作る\n",
    "num = 100\n",
    "N = 10\n",
    "\n",
    "#  空ベクトルを作成\n",
    "mu = np.zeros(num)\n",
    "\n",
    "for i in range(num) : \n",
    "    mu[i] = np.mean(scipy.stats.norm.rvs(loc = mean, scale = std, size = N))\n",
    "\n",
    "plt.hist(mu, bins = 20, range = (1.5, 2.5))"
   ]
  },
  {
   "cell_type": "markdown",
   "metadata": {},
   "source": [
    "この結果から平均の予測値が与えられた真の平均値の周りに分布していることがわかる。    "
   ]
  },
  {
   "cell_type": "markdown",
   "metadata": {},
   "source": [
    "##### 標本分散の自由度     \n",
    "確率変数の$自由度(degree of freedom, DoF)$とは、大雑把にはいくつの変数を勝手に(自由に)その値を動かしていいかを測る指標である。    \n",
    "例えば、標本$\\{ x_i \\}, (i = 1 \\sim N)$に対して、$N=1$であってもこの標本平均は計算できる。すなわち、$N$個の標本を自由にしても良いから自由度は$N$と言える。   \n",
    "次に標本分散の計算式を考えると$N = 1$では標本分散は0となり、意味を持たない。最低$N \\geq 2$でないと標本分散は計算できない。よって標本数のうち一つは自由に使うことはできず、標本分散の自由度は$N-1$となる。   "
   ]
  },
  {
   "cell_type": "markdown",
   "metadata": {},
   "source": [
    "##### 一致性    \n",
    "標本の数が増えるに従って$\\hat{\\theta}$は対応する母数に近づくことが望ましい。つまり    \n",
    "$$\n",
    "\\lim_{N \\to \\infty} P(|\\hat{\\theta}_N - \\theta| < \\varepsilon) = 1\n",
    "$$\n",
    "このような$\\hat{\\theta}$を**一致推定量(consistent estimator)**という。\n",
    "    \n",
    "標本平均は一致推定量であり、標本平均の分散を考えると    \n",
    "$$\n",
    "E[(\\hat{\\mu} - \\mu)^2] = \\frac{1}{N}\\sigma^2\n",
    "$$\n",
    "これにより$N \\to \\infty$とともに0となるから、一致推定量となる。"
   ]
  },
  {
   "cell_type": "markdown",
   "metadata": {},
   "source": [
    "#### 区間推定     \n",
    "標本平均や標本分散は母平均や母分散の周りに分布するが、それらがどれくらいの確率でどれほどの区間に収まるかを考えるのが**区間推定(interval estimation)**という。この考えに対する指標の一つとして信頼区間がある。    \n",
    "      \n",
    "##### 信頼区間(confidence interval)     \n",
    "信頼区間は$(1-\\alpha)$の確率(または信頼度)で真の母数の値$\\theta$が区間$[L, U]$に入る区間のことという。つまり    \n",
    "   \n",
    "$$\n",
    "P(L \\leq \\theta \\leq U) = 1 - \\alpha\n",
    "$$   \n",
    "(この程度の区間をとれば、何回もsamplingを繰り返したとき$1-\\alpha$の確率で区間内に真値$\\theta$が存在する)    \n",
    "ここに、$L, U$はそれぞれ**下側信頼限界(lower confidence limit)**、**上側信頼限界(upper confidence limit)**、$1-\\alpha$は**信頼度(confidence level)**、区間$[L, U]$を**$100(1-\\alpha)$信頼区間**と呼ぶ。    \n",
    "       \n",
    "$1-\\alpha$は目的に応じて適切な値が選ばれるが、通常は$0.90, 0.95, 0.99$が選ばれることが多く、$\\alpha$はそれぞれ$0.10, 0.05, 0.01$となる。   \n",
    "また確率分布が正規分布のような左右対称の場合は信頼区間$[L, U]$をパーセント点の表記$[-z_{\\alpha/2}, z_{\\alpha/2}]$に置き換えて考える。   "
   ]
  },
  {
   "cell_type": "code",
   "execution_count": 3,
   "metadata": {},
   "outputs": [
    {
     "name": "stdout",
     "output_type": "stream",
     "text": [
      "za =  -2.5758293035489004 , zb = 2.5758293035489004\n"
     ]
    }
   ],
   "source": [
    "# 標準正規分布における99%信頼区間を考える\n",
    "# alpha = 0.01(99%信頼区間)\n",
    "alpha = 0.01  \n",
    "\n",
    "# 標準正規分布の90%信頼区間を出す\n",
    "za, zb = scipy.stats.norm.interval(alpha = (1 - alpha), loc = 0, scale = 1)\n",
    "\n",
    "print(\"za = \", za, \", zb =\", zb)"
   ]
  },
  {
   "cell_type": "markdown",
   "metadata": {},
   "source": [
    "#### 母平均の信頼区間\n",
    "+ **母分散$\\sigma^2$が既知の場合**     \n",
    "母集団の平均が$\\mu$、母分散が$\\sigma^2$である時、標本平均は次のように表せられる。   \n",
    "\n",
    "$$\n",
    "\\hat{\\mu} = \\frac{1}{N}(x_1+x_2+\\cdots+x_N)\n",
    "$$\n",
    "\n",
    "$\\hat{\\mu}$は正規分布$N(\\mu, \\sigma^2/N)$に従うのでこれを標準化した$z$を考えると   \n",
    "\n",
    "$$\n",
    "z = \\frac{\\hat{\\mu}-\\mu}{\\sigma/\\sqrt{N}} = \\frac{\\hat{\\mu}-\\mu}{SE(\\sigma, N)}  \\\\\n",
    "SE(\\sigma, N) = \\frac{\\sigma}{N}\n",
    "$$\n",
    "\n",
    "次に信頼区間は以下のように表される。   \n",
    "\n",
    "$$\n",
    "\\begin{align}\n",
    "1-\\alpha &= P(-z_{\\alpha/2}\\leq z \\leq z_{\\alpha/2}) \\\\\n",
    "         &= P(\\hat{\\mu}-z_{\\alpha/2}\\cdot SE(\\sigma, N) \\leq \\mu \\leq \\hat{\\mu}+z_{\\alpha/2}\\cdot SE(\\sigma, N)) \n",
    "\\end{align}\n",
    "$$\n",
    "\n",
    "以上より$\\mu$の信頼度$1-\\alpha$の信頼区間は$[\\hat{\\mu}-z_{\\alpha/2}\\cdot SE(\\sigma, N), \\hat{\\mu}+z_{\\alpha/2}\\cdot SE(\\sigma, N)]$となる。  \n",
    "    \n",
    "+ **母分散$\\sigma^2$が未知の場合**    \n",
    "母分散がわからないときは不偏の標本分散$\\hat{\\sigma^2}$を用いて新たな確率変数$t$を定義する。   \n",
    "\n",
    "$$\n",
    "t = \\frac{\\hat{\\mu}-\\mu}{\\hat{\\sigma}/\\sqrt{N}} = \\frac{\\hat{\\mu}-\\mu}{SE(\\hat{\\sigma}, N)}\n",
    "$$\n",
    "\n",
    "証明は割愛するが母集団が正規分布に従うときこの$t$は自由度$N-1$の$t$分布にしたがう。先程と同様に       \n",
    "\n",
    "$$\n",
    "\\begin{align}\n",
    "1-\\alpha &= P(-t_{\\alpha/2}\\leq t \\leq t_{\\alpha/2}) \\\\\n",
    "         &= P(\\hat{\\mu}-t_{\\alpha/2}\\cdot SE(\\hat{sigma}, N) \\leq \\mu \\leq \\hat{\\mu}+t_{\\alpha/2}\\cdot SE(\\hat{\\sigma}, N)) \n",
    "\\end{align}\n",
    "$$\n",
    "\n",
    "以上より$\\mu$の信頼度$1-\\alpha$の信頼区間は$[\\hat{\\mu}-t_{\\alpha/2}\\cdot SE(\\hat{\\sigma}, N), \\hat{\\mu}+t_{\\alpha/2}\\cdot SE(\\hat{\\sigma}, N)]$となる。   "
   ]
  },
  {
   "cell_type": "markdown",
   "metadata": {},
   "source": [
    "信頼区間については以下の関係がある。    \n",
    "+ 信頼度を大きくすれば信頼区間が広がる。また逆も然りである。(高すぎる信頼度はあまり意味をなさない)    \n",
    "+ $SE(\\sigma, N)$, $SE(\\hat{\\sigma}, N)$ともに$N$の増加とともに小さくなり信頼区間が狭くなる。つまり標本数を増やせばその分母平均の絞り込みができる。"
   ]
  },
  {
   "cell_type": "code",
   "execution_count": 25,
   "metadata": {},
   "outputs": [
    {
     "name": "stdout",
     "output_type": "stream",
     "text": [
      "1-alp = 0.99, interval: 120.84378885405553, 169.55621114594445\n",
      "1-alp = 0.95, interval: 128.24604132892404, 162.15395867107594\n",
      "1-alp = 0.90, interval: 131.46155538107368, 158.9384446189263\n"
     ]
    }
   ],
   "source": [
    "# 例題\n",
    "# 小学校のある学年の全国児童数を１１０万人、N=10人を無作為抽出して標本平均が145.2、標本標準偏差が23.7とした時の信頼区間を求める\n",
    "N, mu_hat, std_hat = 10, 145.2, 23.7\n",
    "\n",
    "# 信頼度0.99, 0.95, 0.90におけるt分布の区間\n",
    "list_interval = list(map(lambda x: scipy.stats.t.interval(x, df = N - 1), (0.99, 0.95, 0.90)))\n",
    "#  信頼度0.99, 0.95, 0.90におけるt分布の区間と信頼度をzipにしてiteraterに\n",
    "zip_interval = zip([\"0.99\", \"0.95\", \"0.90\"], list_interval)\n",
    "\n",
    "# 標準誤差\n",
    "se = std_hat / np.sqrt(N)\n",
    "\n",
    "# それぞれの信頼区間を出力\n",
    "for i, j in zip_interval: \n",
    "    print(\"1-alp = \" + i + \", interval: \" + str(mu_hat + j[0] * se) + \", \" + str(mu_hat + j[1] * se))"
   ]
  },
  {
   "cell_type": "markdown",
   "metadata": {},
   "source": [
    "当然ながら信頼度が上がるに従い信頼区間は広まることがわかる。   "
   ]
  },
  {
   "cell_type": "markdown",
   "metadata": {},
   "source": [
    "#### 母比率の信頼区間   \n",
    "今回は標本比率が二項分布にしたがる場合の母比率の信頼区間を考える。試行回数が$N$、ある事象が発生する確率を$p$とするとき、二項分布に従う確率分布を$X \\sim B(N, p)$とすると、この平均値と分散はそれぞれ次のようになる。  \n",
    "\n",
    "$$\n",
    "E[X] = Np   \\\\\n",
    "V[X] = Np(1-p)\n",
    "$$\n",
    "\n",
    "また、$N$が十分大きいときは中心極限定理より$X$は正規分布$N(Np,Np(1-p))$に従うので、これを標準化した$z$を考えると   \n",
    "\n",
    "$$\n",
    "z = \\frac{X-Np}{\\sqrt{Np(1-p)}} \\sim N(0,1)\n",
    "$$\n",
    "\n",
    "この式を変形し、    \n",
    "\n",
    "$$\n",
    "z = \\frac{1/N}{1/N} \\cdot \\frac{X-Np}{\\sqrt{Np(1-p)}} = \\frac{\\frac{X}{N}-Np}{\\sqrt{\\frac{p(1-p)}{N}}} = \\frac{\\hat{p}-p}{\\sqrt{\\frac{p(1-p)}{N}}} \\sim N(0,1)\n",
    "$$   \n",
    "\n",
    "よって上記より\n",
    "\n",
    "$$\n",
    "\\begin{align}\n",
    "1-\\alpha &= P(-z_{\\alpha/2} \\leq z \\leq z_{\\alpha/2})  \\\\\n",
    "         &= P(\\hat{p}-z_{\\alpha/2}\\cdot \\sqrt{\\frac{p(1-p)}{N}} \\leq p \\leq \\hat{p}+z_{\\alpha/2}\\cdot \\sqrt{\\frac{p(1-p)}{N}})\n",
    "\\end{align}\n",
    "$$\n",
    "\n",
    "$N$が十分大きければ$\\hat{p}$は$p$にほぼ一致するので母比率$p$の信頼度$1-\\alpha$の信頼区間は$[\\hat{p}-z_{\\alpha/2}\\cdot \\sqrt{\\frac{\\hat{p}(1-\\hat{p})}{N}}, \\hat{p}+z_{\\alpha/2}\\cdot \\sqrt{\\frac{\\hat{p}(1-\\hat{p})}{N}}]$となる    "
   ]
  },
  {
   "cell_type": "code",
   "execution_count": 28,
   "metadata": {},
   "outputs": [
    {
     "name": "stdout",
     "output_type": "stream",
     "text": [
      "95% confident interval: 0.5490134886467938, 0.5509865113532063\n"
     ]
    }
   ],
   "source": [
    "# 例題\n",
    "# 内閣支持率を調べるためにサンプル数1000人の調査を行ったところ支持する人は550人であった。支持率の95%信頼区間を求める。   \n",
    "N, p_hat = 1000, 550 / 1000\n",
    "\n",
    "# z分布の95%信頼区間\n",
    "za, zb = scipy.stats.norm.interval(alpha = 1 - 0.95, loc = 0, scale = 1)\n",
    "\n",
    "print(\"95% confident interval: \" + str(p_hat + za * np.sqrt(p_hat * (1 - p_hat) / N)) + \n",
    "      \", \" + str(p_hat + zb * np.sqrt(p_hat * (1 - p_hat) / N)))"
   ]
  },
  {
   "cell_type": "code",
   "execution_count": 30,
   "metadata": {},
   "outputs": [
    {
     "name": "stdout",
     "output_type": "stream",
     "text": [
      "95% confident interval: 0.24957067604015043, 0.25042932395984957\n"
     ]
    }
   ],
   "source": [
    "# N数を増やしたとき...\n",
    "N, p_hat = 4000, 1000 / 4000\n",
    "\n",
    "# z分布の95%信頼区間\n",
    "za, zb = scipy.stats.norm.interval(alpha = 1 - 0.95, loc = 0, scale = 1)\n",
    "\n",
    "print(\"95% confident interval: \" + str(p_hat + za * np.sqrt(p_hat * (1 - p_hat) / N)) + \n",
    "      \", \" + str(p_hat + zb * np.sqrt(p_hat * (1 - p_hat) / N)))\n",
    "\n",
    "# 信頼区間は確かに狭くなっている"
   ]
  },
  {
   "cell_type": "markdown",
   "metadata": {},
   "source": [
    "### 仮説検定    \n",
    "**仮説検定(hypothesis testing)**とは、ある仮説に対して、それが正しいのか否かを統計学的に検討する方法である。例えば新薬の効果があるかどうかを評価するとき、仮説検定に基づくと以下の二つの仮説が立てられる。     \n",
    "\n",
    "+ **帰無仮説(null hypothesis)** $H_0$: 薬の効き目がない   \n",
    "+ **対立仮説(alternative hypothesis)** $H_1$: 薬の効き目がある\n",
    "\n",
    "何らかの検定をして$H_0$が正しくないと判断することを**$H_0を棄却する(reject)$**という。この場合、$H_1$を正しいとして**採用する(accept)**される。  \n",
    "これらのreject/acceptに関しては以下のように判断の誤りが起こる可能性がある。   \n",
    "\n",
    "|判断|$H_0$が正しい|$H_1$が正しい|\n",
    "|---|---|---|\n",
    "|$H_0$を棄却|type-1 error|正しい|\n",
    "|$H_0$を棄却しない|正しい|type-2 error|   \n",
    "\n",
    "+ type-1 error($\\alpha$ error): 新薬の効果がないのに効果があると判断した    \n",
    "+ type-2 error($\\beta$ error): 新薬の効果があるのに効果がないと判断した  \n",
    "\n",
    "ここで棄却の解釈についてであるが、$H_0$を棄却したときは$H_1$を採用することは問題ないが、$H_0$を棄却しなかったからといって$H_0$が正しいと判断することはできない。   \n",
    "    \n",
    "**有意水準**   \n",
    "**有意水準(significance level)**とは仮説検定を行う時に帰無仮説を棄却するかを判定する基準である。帰無仮説$H_0$を棄却した時にtype-1 errorを起こす確率を有意水準$\\alpha$とする。つまり$\\alpha=5\\%$なら同じ状況下で検定を行うと20回に1回はtype-1 errorが発生する。   \n",
    "有意水準を小さくして帰無仮説が棄却されにくくなると正しくない仮説を受容する危険性が増す。つまり有意水準を小さくしてtype-1 errorを起こしにくくすると代償にtype-2 errorが起こりやすくなる。　　　　　\n",
    "    \n",
    "+ **仮説検定まとめ**   \n",
    "\n",
    "    1. 命題をたてる。   \n",
    "    1. 命題に適する検定統計量を算出する。   \n",
    "    1. 帰無仮説$H_0$とこれを否定する対立仮説$H_1$をたてる。   \n",
    "    1. 有意水準$\\alpha$を決める(5%, 1%など)   \n",
    "    1. 用いた検定統計量が示す確率分布から確率$p$を求める(検定では$p$値と呼ぶことが多い)   \n",
    "    1. $p < \\alpha$なら$H_0$が正しいと仮定して算出した検定統計量より極端な値になる確率が極めて低いことから前提条件の$H_0$が誤っていると判断し$H_0$を棄却して$H_1$を採用する。   \n",
    "    1. $p>\\alpha$なら$H_0$を棄却しない。サンプル数・分析方法などを見直して再検定の実施を考える。   "
   ]
  },
  {
   "cell_type": "markdown",
   "metadata": {},
   "source": [
    "#### 変速検定と両側検定    \n",
    "帰無仮説を$H_0:\\mu=2.0$とした時  \n",
    "+ 両側検定 $H_1: \\mu \\neq 2.0$ ($\\mu$は大きいか小さいかのいずれかに含まれるか否かを考える)   \n",
    "+ 片側検定 $H_1: \\mu > 2.0 \\ or \\ \\mu < 2.0$   \n",
    "\n",
    "ちなみに片側検定は大小関係の前提条件があるので帰無仮説が棄却されやすい。特に指定がなければ一般的に両側検定を用いいる。   "
   ]
  },
  {
   "cell_type": "markdown",
   "metadata": {},
   "source": [
    "#### 母平均の検定   \n",
    "標本$\\{x_i\\}$, $(i=1\\sim N)$が互いに独立で正規分布$N(\\mu_0, \\sigma^2)$に従っていると仮定する。母集団の母平均が$\\mu_0$であるかを検定したい。ここで母分散$\\sigma^2$が既知の場合と未知の場合、それぞれに対応する検定統計量は以下の通り。   \n",
    "\n",
    "+ 母分散$\\sigma^2$が既知の場合(z検定)   \n",
    "$$\n",
    "z = \\frac{\\hat{\\mu}-\\mu_0}{\\sigma/\\sqrt{N}} \\sim N(0, 1)\n",
    "$$\n",
    "+ 母分散$\\sigma^2$が未知の場合(t検定)\n",
    "$$\n",
    "t = \\frac{\\hat{\\mu}-\\mu_0}{\\hat{\\sigma}/\\sqrt{N}} \\sim t(N-1)\n",
    "$$   \n",
    "\n",
    "z検定について定性的に考えると$|z|$が大きいと棄却する確率が高まる。つまり$\\hat{\\mu}-\\mu_0$の差が大きいか分散$\\sigma$は一定なので$N$が大きくなれば棄却の可能性が高くなる。    \n",
    "cf) N数が大きくなればt分布はz分布に近くのでt検定の代わりにより計算が簡単なz検定を近似的に用いるという方法もあるが現在はコンピューターによる計算処理が発達しているので可能ならt検定を用いる方が望ましい。   "
   ]
  },
  {
   "cell_type": "code",
   "execution_count": 2,
   "metadata": {},
   "outputs": [
    {
     "name": "stdout",
     "output_type": "stream",
     "text": [
      "t =  -2.4373067467182707\n",
      "p-value =  0.04493615922381196\n"
     ]
    }
   ],
   "source": [
    "# example\n",
    "# ある会社の精密部品の直系の規格は1.54cmである。製造したものから8個サンプリングして測定した直径が以下の通り\n",
    "data = np.array([1.5399, 1.5390, 1.5399, 1.5395, 1.5400, 1.5390, 1.5399, 1.5399])\n",
    "\n",
    "# この製品が規格通りか有意水準0.05で検定する\n",
    "mu = np.mean(data) # mean\n",
    "sd = np.std(data, ddof = 1) # unbiased sd\n",
    "N = len(data) # sample size\n",
    "m0 = 1.54 # hypothesis\n",
    "\n",
    "t_stat = (mu - m0) / (sd / np.sqrt(N)) #t統計量\n",
    "\n",
    "# caluculating p-value\n",
    "if t_stat >= 0 : \n",
    "    p = 1 - scipy.stats.t.cdf(t_stat, N - 1) \n",
    "else : \n",
    "    p = scipy.stats.t.cdf(t_stat, N -1)\n",
    "\n",
    "print(\"t = \", t_stat)\n",
    "print(\"p-value = \", 2 * p)"
   ]
  },
  {
   "cell_type": "markdown",
   "metadata": {},
   "source": [
    "#### 母分散の検定   \n",
    "標本$\\{x_i\\}$, $(i=1\\sim N)$が正規分布$N(\\mu_0, \\sigma^2)$に従っていると仮定する。この$\\mu$, ${\\sigma}^2$の両方が未知の時、母分散が仮定する${\\sigma_0}^2$に等しいか否かを検定するのが母分散の検定である。次の検定統計量を導入する。    \n",
    "\n",
    "$$\n",
    "\\chi^2=\\frac{N-1}{{\\sigma_0}^2} \\hat{\\sigma}^2 \\sim \\chi^2(N-1)\n",
    "$$  \n",
    "\n",
    "この標本分散$\\hat{\\sigma}^2$は不偏分散。上記の統計量は自由度$(N-1)$のカイ二乗分布に従う。    "
   ]
  },
  {
   "cell_type": "code",
   "execution_count": 17,
   "metadata": {},
   "outputs": [
    {
     "name": "stdout",
     "output_type": "stream",
     "text": [
      "variance = 1.769642857143276e-07\n",
      "chi2 = 12.387500000002934, chi2_alp = 14.067140449340169\n",
      "p value = 0.08851446668234408\n"
     ]
    }
   ],
   "source": [
    "# example\n",
    "# 先ほどの例において規格では分散1x10^-7mm以下としている。精密部品の母標準偏差がこの規格からずれているか有意水準5%で検定する \n",
    "\n",
    "# 先ほどのデータ\n",
    "data = np.array([1.5399, 1.5390, 1.5399, 1.5395, 1.5400, 1.5390, 1.5399, 1.5399])\n",
    "\n",
    "var = np.var(data, ddof = 1)    # 標本の不偏分散\n",
    "print(\"variance = {}\".format(var))\n",
    "\n",
    "var0 = 1.e-7    # 規格の分散\n",
    "alpha, N, df = 0.05, len(data), N - 1   # alpha, N数, 自由度\n",
    "\n",
    "chi2 = (N - 1) * var / var0   # 検定統計量、自由度7のカイ二乗分布に従う\n",
    "chi2_alp = scipy.stats.chi2.ppf((1 - alpha), df = df)\n",
    "\n",
    "print(\"chi2 = {0}, chi2_alp = {1}\".format(chi2, chi2_alp))\n",
    "\n",
    "pval = 1 - scipy.stats.chi2.cdf(chi2, df)\n",
    "print(\"p value = {}\".format(pval))    # p値"
   ]
  },
  {
   "cell_type": "markdown",
   "metadata": {},
   "source": [
    "$\\alpha = 0.05$なら帰無仮説$H_0:{\\sigma_0} = 1x10^{-7}$を棄却できない。つまり、規格に収まってないとは明確には言えないがその可能性があるということである。"
   ]
  },
  {
   "cell_type": "markdown",
   "metadata": {},
   "source": [
    "#### ２標本平均の差の検定    \n",
    "2つの母分散が既知であるかどうか、母分散が未知の場合に2標本の分散が等しいか否か、2標本が従属であるかどうかで異なるがここでは2分散が未知かつ対応がない。等分散性が仮定できないWelchのt検定について述べる    \n",
    "統計量は以下の通り    \n",
    "\n",
    "$$\n",
    "t = \\frac{\\hat{\\mu_x} - \\hat{\\mu_y}}{\\sqrt{\\frac{\\hat{\\sigma_x}^2}{N} + \\frac{\\hat{\\sigma_y}^2}{N}}}\n",
    "$$\n",
    "\n",
    "この自由度はWelch-Satterthwaiteの式により近似的に求められる。この自由度の計算は複雑で一般に実数となる。関数`scipy.stats.ttest_ind`はこの計算も含めて$p$値を計算できる。"
   ]
  },
  {
   "cell_type": "code",
   "execution_count": 19,
   "metadata": {},
   "outputs": [
    {
     "name": "stdout",
     "output_type": "stream",
     "text": [
      "t = 1.6653821449601343, p value = 0.11477658092297612\n"
     ]
    }
   ],
   "source": [
    "# example\n",
    "# 二つの体温計S1とS2の測定精度に差があるかを確かめる\n",
    "S1 = np.array([37.1, 36.7, 36.6, 37.4, 36.8, 36.7, 36.9, 37.4, 36.6, 36.7])\n",
    "S2 = np.array([36.8, 36.6, 36.5, 37.0, 36.7, 36.5, 36.6, 37.1, 36.4, 36.7])\n",
    "\n",
    "t, p = scipy.stats.ttest_ind(S1, S2, equal_var = False)  # t統計量とp valueをだす\n",
    "\n",
    "print(\"t = {t}, p value = {p}\".format(t = t, p = p))"
   ]
  },
  {
   "cell_type": "markdown",
   "metadata": {},
   "source": [
    "$\\alpha = 0.05$ならこの値より大きいので$H_0$は棄却できない。すなわち二つの体温計の平均値が等しいという仮説は棄却できない。"
   ]
  },
  {
   "cell_type": "markdown",
   "metadata": {},
   "source": [
    "#### 相関、無相関の検定       \n",
    "サンプル数$N$の2種のデータ$\\{x_1,x_2, \\cdots, x_N\\}$, $\\{y_1, y_2, \\cdots, y_N\\}$の分布を調べるために測定値の組$(x_i, y_i)$を$xy$プロットにしたものを**散布図(scattergram)**という。     \n",
    "$x$と$y$の間の関係を**相関(correlation)**、散布図からこの相関の強弱を定量的に図るものとして**相関係数(correlation coefficient)**といい、次式で計算できる。   \n",
    "\n",
    "$$\n",
    "\\hat{\\rho_{xy}} = \\frac{\\frac{\\displaystyle \\sum^{N}_{i=1}(x_i-\\hat{\\mu_x})(y_i-\\hat{\\mu_y})}{N}}{\\sqrt{\\frac{\\displaystyle \\sum^{N}_{i=1}(x_i-\\hat{\\mu_x})^2}{N}}\\sqrt{\\frac{\\displaystyle \\sum^{N}_{i=1}(y_i-\\hat{\\mu_y})^2}{N}}} \n",
    "                = \\frac{\\displaystyle \\sum^{N}_{i=1}(x_i-\\hat{\\mu_x})(y_i-\\hat{\\mu_y})}{\\displaystyle \\sum^{N}_{i=1}(x_i-\\hat{\\mu_x})^2 \\displaystyle \\sum^{N}_{i=1}(y_i-\\hat{\\mu_y})^2}\n",
    "$$    \n",
    "\n",
    "相関係数は必ず$-1 \\leq \\hat{\\rho}_{xy} \\leq 1$の範囲にある。   \n",
    "$\\hat{\\rho}_{xy} > 0$の時**正の相関**、$\\hat{\\rho}_{xy} < 0$の時**負の相関**。$\\hat{\\rho}_{xy} \\approx 0$の時**無双感**という。   \n",
    "相関係数の絶対値が大きくなるほど相関が強くなるのは一般的な解釈ではあるが、特に明確な基準がある訳でもなく見かけ上相関係数が高くなることもある。したがって相関係数だけでなく散布図を書いて確かめることが極めて重要である。   \n",
    "     \n",
    "**無相関の検定**     \n",
    "相関があるかどうかを検定するのに無相関の検定がある。これは無相関なら$\\rho_{xy}=0$となるはずであることを利用する。この検定の統計量は以下の通り。    \n",
    "\n",
    "$$\n",
    "t = \\frac{|\\hat{\\rho}_{xy}|\\sqrt{N-2}}{\\sqrt{1-\\hat{\\rho}_{xy}}} \\sim t(N-2)\n",
    "$$   "
   ]
  },
  {
   "cell_type": "code",
   "execution_count": 32,
   "metadata": {},
   "outputs": [
    {
     "name": "stdout",
     "output_type": "stream",
     "text": [
      "corr. coef = 0.6342703173343618, p value = 0.04888299019331428\n"
     ]
    },
    {
     "data": {
      "image/png": "[encoded data removed]",
      "text/plain": [
       "<Figure size 432x288 with 1 Axes>"
      ]
     },
     "metadata": {
      "needs_background": "light"
     },
     "output_type": "display_data"
    }
   ],
   "source": [
    "# example\n",
    "# 父親の身長xとその息子の身長yについて相関があるかどうかを有意水準alpha=0.05, 0.01の場合について調べる\n",
    "\n",
    "x = np.array([168, 172, 181, 179, 166, 185, 177, 176, 169, 161])\n",
    "y = np.array([111, 125, 129, 120, 126, 133, 130, 116, 118, 115])\n",
    "\n",
    "# scatter plot\n",
    "plt.scatter(x, y)\n",
    "\n",
    "# calculating corr-coef and p value\n",
    "corr, pval = scipy.stats.pearsonr(x, y)\n",
    "\n",
    "print(\"corr. coef = {}, p value = {}\".format(corr, pval))"
   ]
  },
  {
   "cell_type": "markdown",
   "metadata": {},
   "source": [
    "この結果からは$\\alpha=0.05$の時は$H_0$(無相関)を棄却して相関があると言えるが、$\\alpha=0.01$なら$H_0$は棄却できない。   \n",
    "実際にはこのデータを取り巻く条件などを考慮して判定することになる。"
   ]
  }
 ],
 "metadata": {
  "kernelspec": {
   "display_name": "Python 3",
   "language": "python",
   "name": "python3"
  },
  "language_info": {
   "codemirror_mode": {
    "name": "ipython",
    "version": 3
   },
   "file_extension": ".py",
   "mimetype": "text/x-python",
   "name": "python",
   "nbconvert_exporter": "python",
   "pygments_lexer": "ipython3",
   "version": "3.7.1"
  }
 },
 "nbformat": 4,
 "nbformat_minor": 2
}
