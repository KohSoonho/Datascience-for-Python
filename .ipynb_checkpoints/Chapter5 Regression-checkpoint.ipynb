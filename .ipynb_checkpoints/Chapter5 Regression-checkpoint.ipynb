{
 "cells": [
  {
   "cell_type": "code",
   "execution_count": 65,
   "metadata": {},
   "outputs": [],
   "source": [
    "import numpy as np\n",
    "import scipy as sp\n",
    "import pandas as pd\n",
    "import matplotlib.pyplot as plt\n",
    "from sklearn.linear_model import LinearRegression\n",
    "import statsmodels.formula.api as smf"
   ]
  },
  {
   "cell_type": "markdown",
   "metadata": {},
   "source": [
    "## 回帰分析   \n",
    "\n",
    "### 回帰分析とは     \n",
    "**回帰分析(regression analysis)**において回帰という用語を導入したのはSir F.Galtonといわれている。彼は父親と息子の身長の関係を一次式を用いて調べると世代を経ることで平均値へと収束することを見出した。これを平均回帰(regression toward the mean)と称したことにことを発する。この話は次に詳しい。   \n",
    "\n",
    "+ https://en.wikipedia.org/wiki/Regression_analysis    \n",
    "\n",
    "回帰分析という呼称は彼の功績に基づいており、現在使われている回帰の意味はこれを拡張したものである。   \n",
    "   \n",
    "ここで説明変数が入力として与えられた時に目的変数が出力として現れるものはシステムと呼ばれるが、物理的考察または経験則によりある数式モデルで近似できるものと考えることができる。   \n",
    "ここでモデルが線形であると仮定出来る時、回帰モデルは次式のように現れれる。   \n",
    "     \n",
    "$$\n",
    "\\begin{align}\n",
    "y &= \\boldsymbol{x} \\boldsymbol{\\beta}^{T}  \\\\ \n",
    "  &= \\beta_0 + \\beta_{1} x_{1} + \\cdots + \\beta_{p} x_{p}  \n",
    "\\end{align}\n",
    "$$\n",
    "\n",
    "ここに$p$はモデル次数であり、また次ようにおいた     \n",
    "\n",
    "$$\n",
    "\\boldsymbol{x} = [1 \\ x_{1} \\ \\cdots \\ x_{p}] \\\\\n",
    "\\boldsymbol{\\beta} = [\\beta_{0} \\ \\beta_{1} \\ \\cdots \\beta_{p}]\n",
    "$$  \n",
    "\n",
    "回帰分析の分野において$\\boldsymbol{\\beta}$は**偏回帰係数**(partial regression coefficitent)と呼ばれる。    \n",
    "経済系では$\\boldsymbol{\\beta}$をベータ係数と称し、特に定数($\\beta_{0}$)をバイアスパラメータと称し重要視することがある。このためこの項を抜き出した次のような表現もよく用いられる。   \n",
    "\n",
    "$$\n",
    "y = \\beta_{0} + \\boldsymbol{x} \\boldsymbol{\\beta}^{T}\n",
    "$$\n",
    "\n",
    "モデルが非線形なら次で表す。  \n",
    "\n",
    "$$\n",
    "y = f(\\boldsymbol{x}, \\boldsymbol{\\beta})\n",
    "$$\n",
    "\n",
    "ここに関数$f(\\dot)$の構造(どのような数式で表されるか)は既知とすることが一般的である。   \n",
    "    \n",
    "線形・非線形に関わらず、回帰分析とは次を行うことである。   \n",
    "+ モデル構造が既知と仮定して、モデル次数$p$を選定する。   \n",
    "+ $\\boldsymbol{x}$, yを用いて、偏回帰係数$\\bolddymbol{\\beta}$を推定し、回帰モデルを求める。   \n",
    "+ この回帰モデルを用いて、目的変数が未知で新たな説明変数をモデルに入力して目的変数を予測する。"
   ]
  },
  {
   "cell_type": "markdown",
   "metadata": {},
   "source": [
    "### statsmodels   \n",
    "`statsmodels`は様々な統計モデルを提供しており、公式HPは<a href = https://www.statsmodels.org>こちら</a>にある。   \n",
    "本章では回帰モデルのパラメータ推定にOLS法(ordinary least squares)を扱うが他にGLS法(generalized least squares)などがある。   \n",
    "また`statsmodels`は説明変数を**exog(exogenous variable)**、目的変数を**endog(endogenous variable)**とあわわす。\n",
    "`statsmodels`の使い方は次を参照すること。\n",
    "+ <a href = http://www.statsmodels.org/dev/regression.html>線形回帰の説明：Linear Regression</a>    \n",
    "+ 線形回帰計算結果の説明：statsmodels.regression.linear_model.RegressionResults   \n",
    "+ OLSの使い方:statsmodels.regression.linear_model.OLS    "
   ]
  },
  {
   "cell_type": "markdown",
   "metadata": {},
   "source": [
    "### 単回帰分析  \n",
    "**単回帰分析(simple linear regression)**は$y = \\beta_{0} + \\beta_{1}x$の1次式を扱う。得られたデータから偏回帰係数を推定してモデルを求め、これを用いて予測を行っていく。   \n"
   ]
  },
  {
   "cell_type": "markdown",
   "metadata": {},
   "source": [
    "#### 単回帰分析の意義      \n",
    "下図において、散布図は何らかの観測によって計測した値をプロットしたものである。この時xは説明変数、yは目的変数である。  \n",
    "xとyの関係が1次式で表されると仮定して、次の単回帰モデルを導入する。   \n",
    "$$\n",
    "y = \\beta_{0} + \\beta_{1} x\n",
    "$$\n",
    "このモデルが観測したデータに最もフィットするように偏回帰係数($\\beta_{0}$, $\\beta_{1}$)を求める。  "
   ]
  },
  {
   "cell_type": "code",
   "execution_count": 64,
   "metadata": {},
   "outputs": [
    {
     "data": {
      "text/plain": [
       "Text(0, 0.5, 'y')"
      ]
     },
     "execution_count": 64,
     "metadata": {},
     "output_type": "execute_result"
    },
    {
     "data": {
      "image/png": "[encoded data removed]",
      "text/plain": [
       "<Figure size 432x288 with 1 Axes>"
      ]
     },
     "metadata": {
      "needs_background": "light"
     },
     "output_type": "display_data"
    }
   ],
   "source": [
    "# create random variables, y = 0.25x + 3 + e\n",
    "np.random.seed(123)\n",
    "x = np.random.randint(-20, 60, 30).reshape(-1, 1)   # 1d-array is not used for sklearn, so reshape(-1, 1)\n",
    "y = x * 0.25 + 3 + np.random.randint(-5, 5, 30).reshape(-1, 1)\n",
    "\n",
    "# creating linear regression model\n",
    "model = LinearRegression()\n",
    "model.fit(x, y)\n",
    "\n",
    "# prediction from linear model\n",
    "y_pred = model.predict(x)\n",
    "\n",
    "# scatter plot and regression line\n",
    "plt.scatter(x, y)\n",
    "plt.plot(x, y_pred, color = \"red\")\n",
    "plt.xlabel(\"x\")\n",
    "plt.ylabel(\"y\", rotation = 0)"
   ]
  },
  {
   "cell_type": "markdown",
   "metadata": {},
   "source": [
    "通常は最小2乗法を用いて単回帰モデルを求め、これを直線でプロットしたものが上図である。  \n",
    "この単回帰モデルは数式(連続値をとり$-\\infty$ ~ $\\infty$の区間をとる)で表されるため求めることの意義は下のようになる。  \n",
    "+ 計測データは離散値である。このため、隣り合うデータのyを知りたい場合にこの値をよくすることができる。   \n",
    "+ この例では$-20 \\leq x \\leq 60$であるが、この区間を超えたyを予測することができる。   \n",
    "+ パラメーター$\\beta_{0}$, $\\beta{1}$を見ることで説明変数に基づく目的変数の発生メカニズムを知ることができる。  "
   ]
  },
  {
   "cell_type": "markdown",
   "metadata": {},
   "source": [
    "#### 単回帰モデルの統計的評価     \n",
    "上図において誤差$e$は離散時系列データ$\\{ e_i \\}$, $(i = 1 \\sim N)$であり、確率変数と考えることができる。こうすれば単回帰モデルは確率システムとなりモデルの良し悪しを統計的に評価できる。特に誤差が正規分布に従うと仮定した時の評価指標は理論的に整備されている。   \n",
    "\n",
    "##### 偏回帰係数のt検定   \n",
    "単回帰モデルが確率システムという仮定の下、偏回帰係数は確率変数となる。特に係数$\\beta_{0}$, $\\beta_{1}$の値が0か否かは問題になり次の仮説検定が行われる。   \n",
    "\n",
    "$H_0$:係数は0である   \n",
    "$H_1$:係数は0でない   \n",
    "\n",
    "ここに、係数は$\\beta_{0}$または$\\beta_{1}$のいずれかを表し、それぞれ別途に検定される。   \n",
    "各係数の検定には$e_i$の分散を用いるが、この分散は未知であるため標本分散を用いたt検定を行うこととなる。  \n",
    "\n",
    "#### 決定係数\n",
    "**決定係数(coefficient of determination)**は$R^2$で表され、回帰モデルのデータに対する当てはまりの指標である。   \n",
    "これは以下の範囲をとる。   \n",
    "$$\n",
    "0 \\leq R^2 \\leq 1\n",
    "$$\n",
    "この式において1に近いほど当てはまりが良いとされ、説明変数が目的変数を良く説明していると言われている。    \n",
    "ただし、$R^2$は絶対的な指標ではなくあくまでも目安であること考えないといけない。下図の一つ目では$R_{green}^2 \\leq R_{red}^2$という結果は妥当であるが、二つ目の図では赤の単回帰モデルの方が良いようにも思える。   \n",
    "モデルの当てはまりの判断はデータの背景や使用条件にも左右されるのでどちらのモデルが良いかの判断は$R^2$だけでは決められないことが多々ある。    "
   ]
  },
  {
   "cell_type": "code",
   "execution_count": 55,
   "metadata": {},
   "outputs": [
    {
     "data": {
      "text/plain": [
       "Text(0, 0.5, 'y')"
      ]
     },
     "execution_count": 55,
     "metadata": {},
     "output_type": "execute_result"
    },
    {
     "data": {
      "image/png": "[encoded data removed]",
      "text/plain": [
       "<Figure size 432x288 with 1 Axes>"
      ]
     },
     "metadata": {
      "needs_background": "light"
     },
     "output_type": "display_data"
    }
   ],
   "source": [
    "# R^2(red) > R^2(green)はぽい\n",
    "plt.scatter(x, y)\n",
    "plt.plot(x, 0.25 * x + 3,, color = \"red\")\n",
    "plt.plot(x, 0.4 * x + 3, color = \"green\")\n",
    "plt.xlabel(\"x\")\n",
    "plt.ylabel(\"y\", rotation = 0)"
   ]
  },
  {
   "cell_type": "code",
   "execution_count": 63,
   "metadata": {},
   "outputs": [
    {
     "data": {
      "text/plain": [
       "Text(0, 0.5, 'y')"
      ]
     },
     "execution_count": 63,
     "metadata": {},
     "output_type": "execute_result"
    },
    {
     "data": {
      "image/png": "[encoded data removed]",
      "text/plain": [
       "<Figure size 432x288 with 1 Axes>"
      ]
     },
     "metadata": {
      "needs_background": "light"
     },
     "output_type": "display_data"
    }
   ],
   "source": [
    "# R^2(green) > R^2(red) ?\n",
    "# 外れ値に引っ張られてR^2の適切な評価が難しくなっている\n",
    "x_new = np.insert(x, -1, np.random.randint(20, 40, 10))\n",
    "y_new = np.insert(y, -1, np.random.randint(15, 25, 10))\n",
    "plt.scatter(x_new, y_new)\n",
    "plt.plot(x_new, 0.25 * x_new + 3, color = \"red\")\n",
    "plt.plot(x_new, 0.4 * x_new + 3, color = \"green\")\n",
    "plt.xlabel(\"x\")\n",
    "plt.ylabel(\"y\", rotation = 0)"
   ]
  },
  {
   "cell_type": "markdown",
   "metadata": {},
   "source": [
    "#### 家計調査    "
   ]
  },
  {
   "cell_type": "code",
   "execution_count": 66,
   "metadata": {},
   "outputs": [
    {
     "data": {
      "text/html": [
       "<div>\n",
       "<style scoped>\n",
       "    .dataframe tbody tr th:only-of-type {\n",
       "        vertical-align: middle;\n",
       "    }\n",
       "\n",
       "    .dataframe tbody tr th {\n",
       "        vertical-align: top;\n",
       "    }\n",
       "\n",
       "    .dataframe thead th {\n",
       "        text-align: right;\n",
       "    }\n",
       "</style>\n",
       "<table border=\"1\" class=\"dataframe\">\n",
       "  <thead>\n",
       "    <tr style=\"text-align: right;\">\n",
       "      <th></th>\n",
       "      <th>income</th>\n",
       "      <th>expenditure</th>\n",
       "      <th>engel</th>\n",
       "    </tr>\n",
       "  </thead>\n",
       "  <tbody>\n",
       "    <tr>\n",
       "      <th>0</th>\n",
       "      <td>216</td>\n",
       "      <td>172462</td>\n",
       "      <td>30.8</td>\n",
       "    </tr>\n",
       "    <tr>\n",
       "      <th>1</th>\n",
       "      <td>304</td>\n",
       "      <td>204599</td>\n",
       "      <td>29.9</td>\n",
       "    </tr>\n",
       "    <tr>\n",
       "      <th>2</th>\n",
       "      <td>356</td>\n",
       "      <td>224776</td>\n",
       "      <td>28.8</td>\n",
       "    </tr>\n",
       "    <tr>\n",
       "      <th>3</th>\n",
       "      <td>413</td>\n",
       "      <td>240153</td>\n",
       "      <td>27.8</td>\n",
       "    </tr>\n",
       "    <tr>\n",
       "      <th>4</th>\n",
       "      <td>481</td>\n",
       "      <td>255497</td>\n",
       "      <td>27.3</td>\n",
       "    </tr>\n",
       "  </tbody>\n",
       "</table>\n",
       "</div>"
      ],
      "text/plain": [
       "   income  expenditure  engel\n",
       "0     216       172462   30.8\n",
       "1     304       204599   29.9\n",
       "2     356       224776   28.8\n",
       "3     413       240153   27.8\n",
       "4     481       255497   27.3"
      ]
     },
     "execution_count": 66,
     "metadata": {},
     "output_type": "execute_result"
    }
   ],
   "source": [
    "url = \"http://sites.google.com/site/datasciencehiro/datasets/FamilyIncome.csv\"\n",
    "df = pd.read_csv(url, comment = \"#\")\n",
    "df.head()"
   ]
  }
 ],
 "metadata": {
  "kernelspec": {
   "display_name": "Python 3",
   "language": "python",
   "name": "python3"
  },
  "language_info": {
   "codemirror_mode": {
    "name": "ipython",
    "version": 3
   },
   "file_extension": ".py",
   "mimetype": "text/x-python",
   "name": "python",
   "nbconvert_exporter": "python",
   "pygments_lexer": "ipython3",
   "version": "3.7.1"
  }
 },
 "nbformat": 4,
 "nbformat_minor": 2
}
